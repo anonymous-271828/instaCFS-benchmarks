{
 "cells": [
  {
   "cell_type": "code",
   "execution_count": 1,
   "id": "82a174ea-a42d-4a71-ae48-2f8b3961585f",
   "metadata": {},
   "outputs": [],
   "source": [
    "# Import sigmasep submodule by appending sys.path\n",
    "import sys\n",
    "import os\n",
    "sys.path.append(os.path.abspath('../submodules/sigmasep/python'))"
   ]
  },
  {
   "cell_type": "code",
   "execution_count": 2,
   "id": "963843d7-8087-4546-aa8f-ecb0d7edb7a7",
   "metadata": {},
   "outputs": [],
   "source": [
    "import numpy as np\n",
    "import random"
   ]
  },
  {
   "cell_type": "code",
   "execution_count": 3,
   "id": "4597697c-5233-4b53-bcbb-f3743e85e7cc",
   "metadata": {},
   "outputs": [],
   "source": [
    "from mSCM import sample_adjacency_matrix\n",
    "from mSCM import extract_edges, extract_confs, extend_adjacency_matrix, num_hidden_units_to_add\n",
    "from mSCM import sample_from_mSCM, sample_weights_and_bias, normalranktransform"
   ]
  },
  {
   "cell_type": "code",
   "execution_count": 4,
   "id": "63704621-5026-43f3-958a-bd812caef2b3",
   "metadata": {},
   "outputs": [],
   "source": [
    "# Number of nodes in G\n",
    "d=4\n",
    "# Number of latent confounders\n",
    "k=2\n",
    "# Probability of an edge\n",
    "p=0.3\n",
    "m=0\n",
    "nbr=-1\n",
    "add_ind_noise_to_A=True\n",
    "add_ind_noise_to_W=True\n",
    "include_latent=True\n",
    "# NN activation fn\n",
    "AF=[np.tanh]\n",
    "#sc = activation function scale\n",
    "SC=[1]\n",
    "# Noise distribution\n",
    "NOI=['uniform']\n",
    "SD=[3]\n",
    "n=10000\n",
    "AL =[0.01]\n",
    "MUL=[1000]\n",
    "infty=1000\n",
    "# Something to do with number of interventions\n",
    "nbr_do=0\n",
    "# Also something to do with number of interventions\n",
    "max_do=0\n",
    "do_strategy=2"
   ]
  },
  {
   "cell_type": "code",
   "execution_count": 16,
   "id": "3bcabf0b-7632-452f-b093-d26ddab11f2d",
   "metadata": {},
   "outputs": [],
   "source": [
    "A = sample_adjacency_matrix(d,k,p,add_ind_noise_to_A)"
   ]
  },
  {
   "cell_type": "code",
   "execution_count": 17,
   "id": "7d3fca1b-fbae-4901-b29e-6e2d8ca4036b",
   "metadata": {},
   "outputs": [],
   "source": [
    "V = extract_edges(A)\n",
    "H = extract_confs(A)"
   ]
  },
  {
   "cell_type": "code",
   "execution_count": 19,
   "id": "216acc50-367a-46d7-874f-136167fe013b",
   "metadata": {},
   "outputs": [],
   "source": [
    "c = num_hidden_units_to_add(A,m)\n",
    "W, b = sample_weights_and_bias(A,c,add_ind_noise_to_W,include_latent)"
   ]
  },
  {
   "cell_type": "code",
   "execution_count": 20,
   "id": "2e1603a9-91ac-4101-9e70-d2184efec2ad",
   "metadata": {},
   "outputs": [],
   "source": [
    "S = sample_from_mSCM(W,b,np.array([]),n,d,AF[0],SC[0],SD[0],NOI[0])"
   ]
  },
  {
   "cell_type": "code",
   "execution_count": 21,
   "id": "ec4e6b9d-aae5-419c-8e23-56e7e5e19d77",
   "metadata": {},
   "outputs": [],
   "source": [
    "S = normalranktransform(S)"
   ]
  },
  {
   "cell_type": "code",
   "execution_count": 22,
   "id": "b92ca6d9-e636-499d-b737-40f88b85287c",
   "metadata": {},
   "outputs": [
    {
     "data": {
      "text/plain": [
       "(10000, 4)"
      ]
     },
     "execution_count": 22,
     "metadata": {},
     "output_type": "execute_result"
    }
   ],
   "source": [
    "S.shape"
   ]
  },
  {
   "cell_type": "code",
   "execution_count": 23,
   "id": "c6f48502-4f6a-4200-a428-bac7358b4be6",
   "metadata": {},
   "outputs": [
    {
     "data": {
      "text/plain": [
       "array([[0, 1, 0, 0, 0, 1, 1, 0, 0, 0],\n",
       "       [1, 0, 1, 1, 1, 0, 0, 1, 0, 0],\n",
       "       [1, 1, 0, 0, 0, 0, 0, 0, 1, 0],\n",
       "       [1, 0, 1, 0, 1, 1, 0, 0, 0, 1]])"
      ]
     },
     "execution_count": 23,
     "metadata": {},
     "output_type": "execute_result"
    }
   ],
   "source": [
    "A"
   ]
  },
  {
   "cell_type": "code",
   "execution_count": 18,
   "id": "fdae77f7-c58a-4201-8c6f-b9fea3606cb7",
   "metadata": {},
   "outputs": [
    {
     "data": {
      "text/plain": [
       "array([[0, 1, 0, 0],\n",
       "       [1, 0, 1, 1],\n",
       "       [1, 1, 0, 0],\n",
       "       [1, 0, 1, 0]])"
      ]
     },
     "execution_count": 18,
     "metadata": {},
     "output_type": "execute_result"
    }
   ],
   "source": [
    "V"
   ]
  },
  {
   "cell_type": "code",
   "execution_count": null,
   "id": "82c78d65-7894-4939-8770-5a80ffc805de",
   "metadata": {},
   "outputs": [],
   "source": []
  }
 ],
 "metadata": {
  "kernelspec": {
   "display_name": "Python 3 (ipykernel)",
   "language": "python",
   "name": "python3"
  },
  "language_info": {
   "codemirror_mode": {
    "name": "ipython",
    "version": 3
   },
   "file_extension": ".py",
   "mimetype": "text/x-python",
   "name": "python",
   "nbconvert_exporter": "python",
   "pygments_lexer": "ipython3",
   "version": "3.11.7"
  }
 },
 "nbformat": 4,
 "nbformat_minor": 5
}
